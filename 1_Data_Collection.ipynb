{
 "cells": [
  {
   "cell_type": "code",
   "execution_count": null,
   "metadata": {},
   "outputs": [],
   "source": [
    "\"\"\"\n",
    "We collected our data using Bloomberg terminal, including the daily price and daily volume of all S&P 500 constitutents from 11/2002-10/2018.\n",
    "For sector performance, we use 11 sector index funds'price (S5FINL, S5INFT, S5RLST, S5UTIL, S5ENRS, S5MATR, S5HLTH, S5COND, S5CONS, S5INDU, S5TELS)\n",
    "\n",
    "The following code shows how we merge, organize and clean different Excel files together to create one single CSV file \n",
    "which contains cross-sectional time series information of all S&P 500 constituents and sectors.\n",
    "\n",
    "\"\"\"\n"
   ]
  },
  {
   "cell_type": "code",
   "execution_count": null,
   "metadata": {},
   "outputs": [],
   "source": [
    "import os\n",
    "import pandas as pd\n",
    "import datetime\n",
    "import openpyxl"
   ]
  },
  {
   "cell_type": "code",
   "execution_count": null,
   "metadata": {},
   "outputs": [],
   "source": [
    "def processEachFile(filepath):\n",
    "    pathDir = os.listdir(filepath)\n",
    "    output = None\n",
    "    for aDir in pathDir:\n",
    "        thisFuckingFile = os.path.join(filepath, aDir)\n",
    "        df = processFile(thisFuckingFile)\n",
    "        if output is None:\n",
    "            output = df\n",
    "        else:\n",
    "            output = output.append(df)\n",
    "        # print(output.head())\n",
    "    output.to_csv('processData.csv')\n",
    "    output = processReturn(output)\n",
    "    output.to_csv('processReturn.csv')\n",
    "    return output\n",
    "\n"
   ]
  },
  {
   "cell_type": "code",
   "execution_count": null,
   "metadata": {},
   "outputs": [],
   "source": [
    "def processReturn(data):\n",
    "    df = None\n",
    "    processData = data.sort_values(['Date'])\n",
    "    processData.index = range(len(processData))\n",
    "    equityNames = data.Ticker.unique()\n",
    "    print('There are', str(len(equityNames)), 'to process.')\n",
    "    for name in equityNames:\n",
    "        print('I am process', name)\n",
    "        nameData = data[data.Ticker == name]\n",
    "        processDate = nameData['Date']\n",
    "        processDate = processDate.diff()\n",
    "        processInd = list(processDate.index[processDate >= datetime.timedelta(days = 30)])\n",
    "        if len(processInd) > 0:\n",
    "            processStart = 0\n",
    "            processInd.append(len(processInd) - 1)\n",
    "            for i in range(len(processInd)):\n",
    "                processSubNameData = nameData[processStart : processInd[i]]\n",
    "                processPrices = processSubNameData['Price']\n",
    "                processReturn = processPrices.pct_change()\n",
    "                processSubNameData['Return'] = processReturn\n",
    "                if df is None:\n",
    "                    df = processSubNameData\n",
    "                else:\n",
    "                    df = df.append(processSubNameData)\n",
    "                processStart = processInd[i]\n",
    "        else:\n",
    "            processPrices = nameData['Price']\n",
    "            processReturn = processPrices.pct_change()\n",
    "            nameData['Return'] = processReturn\n",
    "            if df is None:\n",
    "                df = nameData\n",
    "            else:\n",
    "                df = df.append(nameData)\n",
    "    return df\n"
   ]
  },
  {
   "cell_type": "code",
   "execution_count": null,
   "metadata": {},
   "outputs": [],
   "source": [
    "def processFileName(fileName):\n",
    "    subName = fileName.split('\\\\')\n",
    "    nameList = subName[-1].split(' ')\n",
    "    temp = nameList[-1].split('.')\n",
    "    dateString = temp[0][:-1] + nameList[-3] + nameList[-2]\n",
    "    return datetime.datetime.strptime(dateString, '%Y%b%d')\n",
    "\n"
   ]
  },
  {
   "cell_type": "code",
   "execution_count": null,
   "metadata": {},
   "outputs": [],
   "source": [
    "def processFile(fileName):\n",
    "    processFile = openpyxl.load_workbook(fileName)\n",
    "    processSheet = processFile['Worksheet']\n",
    "    processTicker = []\n",
    "    processPrice = []\n",
    "    processDate = processFileName(fileName)\n",
    "    processDates = []\n",
    "    for (ind, processValue) in enumerate(processSheet.values):\n",
    "        if ind == 0:\n",
    "            continue\n",
    "        else:\n",
    "            try:\n",
    "                aFuckingTicker = processValue[0]\n",
    "                aFuckingPrice = float(processValue[-1])\n",
    "                aFuckingDate = processDate\n",
    "                processTicker.append(aFuckingTicker)\n",
    "                processPrice.append(aFuckingPrice)\n",
    "                processDates.append(aFuckingDate)\n",
    "            except:\n",
    "                continue\n",
    "    df = pd.DataFrame({'Date': processDates, 'Ticker': processTicker, 'Price': processPrice})\n",
    "    return df\n",
    "\n",
    "\n"
   ]
  },
  {
   "cell_type": "code",
   "execution_count": null,
   "metadata": {},
   "outputs": [],
   "source": [
    "f = lambda x: datetime.datetime.strptime(x, '%Y-%m-%d')\n",
    "df = pd.read_csv('C:\\\\Users\\\\Dian\\\\OneDrive\\\\Studying\\\\Quantitative Finance\\\\Deep Learning\\\\Project\\\\processData.csv', converters={'Date':f})\n",
    "output = processReturn(df)\n",
    "output.to_csv('processReturn.csv')"
   ]
  },
  {
   "cell_type": "code",
   "execution_count": null,
   "metadata": {},
   "outputs": [],
   "source": [
    "def match():\n",
    "    \n",
    "    def time_convert(time):\n",
    "        new_time  = datetime.datetime.strptime(time, \"%m/%d/%Y\").strftime(\"%Y-%m-%d\")\n",
    "        return new_time\n",
    "    \n",
    "    def match_volume(date,ticker):\n",
    "        vol = volume.loc[date,ticker]\n",
    "        return vol\n",
    "    price = pd.read_csv('data.csv',index_col= 0)\n",
    "    volume = pd.read_csv('volume.csv')\n",
    "    sector = pd.read_csv('Sector_Info.csv',index_col = 0)\n",
    "    sector_price = pd.read_csv('Sector Performance.csv',index_col = 0)\n",
    "\n",
    "    sector_price['Date'] = sector_price['Date'].apply(time_convert)\n",
    "    volume.iloc[:,0] = volume.iloc[:,0].apply(time_convert)\n",
    "    volume.index = volume.iloc[:,0]\n",
    "    volume = volume.iloc[:,1:]\n",
    "\n",
    "    price['volume'] = price.apply(lambda x: match_volume(x['Date'],x['Ticker']),axis = 1)\n",
    "    price = price.sort_values(['Ticker','Date'])\n",
    "    price = price.reset_index(drop = True)\n",
    "    price_sector = price.merge(sector,how ='left',left_on='Ticker',right_on = 'ticker')\n",
    "\n",
    "    price_sector = price_sector[['Date','Ticker','Price','volume','GICS']]\n",
    "    price_sector.columns = ['Date','Ticker','Price','Volume','Sector']\n",
    "    price_sector.to_csv('price_sector.csv') \n",
    "    pass\n",
    "\n",
    "match()"
   ]
  }
 ],
 "metadata": {
  "kernelspec": {
   "display_name": "Python 3",
   "language": "python",
   "name": "python3"
  },
  "language_info": {
   "codemirror_mode": {
    "name": "ipython",
    "version": 3
   },
   "file_extension": ".py",
   "mimetype": "text/x-python",
   "name": "python",
   "nbconvert_exporter": "python",
   "pygments_lexer": "ipython3",
   "version": "3.6.7"
  }
 },
 "nbformat": 4,
 "nbformat_minor": 2
}
